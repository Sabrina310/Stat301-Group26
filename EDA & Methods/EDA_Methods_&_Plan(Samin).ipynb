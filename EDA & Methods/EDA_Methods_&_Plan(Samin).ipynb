{
 "cells": [
  {
   "cell_type": "markdown",
   "id": "cc77bcf4-81cb-4037-9932-6fc682732a02",
   "metadata": {},
   "source": [
    "# **Dataset Overview**\n",
    "\n",
    "The dataset provides detailed information about employees within an anonymous company, covering aspects such as educational background, demographics, work history, and employment-related factors. It has been anonymized to protect the privacy of individuals while maintaining the value of the data for analysis. The dataset could be used to explore workforce diversity, employee retention, or patterns related to employee experience and job stability.\n",
    "\n",
    "Number of Observations and Variables:\n",
    "- Total Observations: 4,653 employees\n",
    "- Total Variables: 9"
   ]
  },
  {
   "cell_type": "markdown",
   "id": "4d153cc2-e997-42eb-a99c-3dd1dcef67d8",
   "metadata": {},
   "source": [
    "### **Detailed Variable Descriptions**\n",
    "\n",
    "| **Variable Name**           | **Description**                                                          | **Type**         | **Example Values**        |\n",
    "|-----------------------------|---------------------------------------------------------------------------|-----------------|---------------------------|\n",
    "| `Education`                 | Educational qualifications (degree, field of study, etc.)                | Categorical     | \"Bachelors\"        |\n",
    "| `Joining Year`              | Year the employee joined the company                                     | Numerical       | 2015, 2018                |\n",
    "| `City`                      | Location where the employee works                                        | Categorical     | \"New Delhi\", \"Pune\"     |\n",
    "| `Payment Tier`              | Employee’s salary tier (categorization of income levels)                 | Ordinal         | 1, 2, 3                   |\n",
    "| `Age`                       | Age of the employee                                                      | Numerical       | 25, 34, 42                |\n",
    "| `Gender`                    | Employee’s gender identity                                               | Categorical     | \"Male\", \"Female\", \"Other\" |\n",
    "| `Ever Benched`              | Whether the employee was temporarily without assigned work               | Binary          | \"Yes\", \"No\"               |\n",
    "| `Experience in Current Domain` | Number of years the employee has worked in their current field      | Numerical       | 2, 5, 10                  |\n",
    "| `Leave or Not` (Target)     | Indicates if the employee left the company (attrition)                   | Binary          | 0 (No), 1 (Yes)           |\n"
   ]
  },
  {
   "cell_type": "markdown",
   "id": "ebfa9457-083a-42dc-a995-f05413a1e037",
   "metadata": {},
   "source": [
    "Data Distribution and Summary Statistics:\n",
    "- Education: The majority of employees have a Bachelor’s degree (3,601), followed by Master’s (873) and PhD (179) qualifications.\n",
    "- Joining Year: Employees joined between 2012 and 2018, with a median joining year of 2015.\n",
    "- City: The largest number of employees are from Bangalore (2,228), followed by Pune (1,268) and New Delhi (1,157).\n",
    "- Payment Tier: Payment tiers are distributed as 1 (243 employees), 2 (918 employees), and 3 (3,492 employees).\n",
    "- Age: The age range of employees is from 22 to 41 years, with a mean age of approximately 29.4 years.\n",
    "- Gender: The dataset includes 1,875 female and 2,778 male employees.\n",
    "- Ever Benched: Most employees have not been benched (4,175), while 478 have experienced benching.\n",
    "- Experience in Current Domain: The experience ranges from 0 to 7 years, with a mean of approximately 2.9 years.\n",
    "- Leave or Not: 1,600 employees have left the company, while 3,053 have remained."
   ]
  },
  {
   "cell_type": "code",
   "execution_count": 51,
   "id": "768dc359-02f0-4a02-af2d-49a880f399c1",
   "metadata": {},
   "outputs": [
    {
     "name": "stderr",
     "output_type": "stream",
     "text": [
      "Loading required package: Matrix\n",
      "\n",
      "\n",
      "Attaching package: 'Matrix'\n",
      "\n",
      "\n",
      "The following objects are masked from 'package:tidyr':\n",
      "\n",
      "    expand, pack, unpack\n",
      "\n",
      "\n",
      "Loaded glmnet 4.1-8\n",
      "\n"
     ]
    }
   ],
   "source": [
    "# Loading Libraries\n",
    "\n",
    "library(broom)\n",
    "library(dplyr)\n",
    "library(tidyverse)\n",
    "library(ggplot2)\n",
    "library(MASS)\n",
    "library(caret)\n",
    "library(pROC)\n",
    "library(glmnet)"
   ]
  },
  {
   "cell_type": "markdown",
   "id": "e7390e32-e25e-4bc7-9611-714e2eceea45",
   "metadata": {},
   "source": [
    "## Research Question\n",
    "\n",
    "What factors contribute to predicting whether an employee will leave the company or not?\n",
    "\n",
    "### Response and Explanatory Variables\n",
    "\n",
    " - Response (Dependent) Variable: Leave or Not (Binary: 0 = No, 1 = Yes).\n",
    " - Explanatory (Independent) Variable: The remaining variables in the dataset to explore potential predictors.\n",
    "\n",
    "### How the Data Helps Address the Question\n",
    "The dataset contains relevant information on employees' demographics, work conditions, and experiences, which can be analyzed to:\n",
    "\n",
    " - Identify key predictors of attrition (e.g., Payment Tier, Ever Benched, Experience in Current Domain).\n",
    " - Determine how factors such as Age, Gender, or Education relate to employee retention.\n",
    " - Use statistical models like logistic regression or ANOVA to predict the likelihood of attrition.\n",
    "\n",
    "### Prediction or Inference?\n",
    "This question focuses on prediction, aiming to build a model that accurately forecasts whether an employee will leave based on their characteristics. However, insights from the analysis can also infer trends and patterns in employee turnover, which can guide management strategies."
   ]
  },
  {
   "cell_type": "markdown",
   "id": "38b3d1eb-b3b0-402d-bf25-84f5486b8af8",
   "metadata": {},
   "source": [
    "## Exploratory Data Analysis"
   ]
  },
  {
   "cell_type": "markdown",
   "id": "18e2bb4e-9247-464c-8c45-27ab0c3b2b9b",
   "metadata": {},
   "source": [
    "Read the dataset"
   ]
  },
  {
   "cell_type": "code",
   "execution_count": 2,
   "id": "82e88e5c-2e06-49d7-907a-d7ce3b8c6cfb",
   "metadata": {},
   "outputs": [
    {
     "data": {
      "text/html": [
       "<table class=\"dataframe\">\n",
       "<caption>A data.frame: 6 × 9</caption>\n",
       "<thead>\n",
       "\t<tr><th></th><th scope=col>Education</th><th scope=col>JoiningYear</th><th scope=col>City</th><th scope=col>PaymentTier</th><th scope=col>Age</th><th scope=col>Gender</th><th scope=col>EverBenched</th><th scope=col>ExperienceInCurrentDomain</th><th scope=col>LeaveOrNot</th></tr>\n",
       "\t<tr><th></th><th scope=col>&lt;chr&gt;</th><th scope=col>&lt;int&gt;</th><th scope=col>&lt;chr&gt;</th><th scope=col>&lt;int&gt;</th><th scope=col>&lt;int&gt;</th><th scope=col>&lt;chr&gt;</th><th scope=col>&lt;chr&gt;</th><th scope=col>&lt;int&gt;</th><th scope=col>&lt;int&gt;</th></tr>\n",
       "</thead>\n",
       "<tbody>\n",
       "\t<tr><th scope=row>1</th><td>Bachelors</td><td>2017</td><td>Bangalore</td><td>3</td><td>34</td><td>Male  </td><td>No </td><td>0</td><td>0</td></tr>\n",
       "\t<tr><th scope=row>2</th><td>Bachelors</td><td>2013</td><td>Pune     </td><td>1</td><td>28</td><td>Female</td><td>No </td><td>3</td><td>1</td></tr>\n",
       "\t<tr><th scope=row>3</th><td>Bachelors</td><td>2014</td><td>New Delhi</td><td>3</td><td>38</td><td>Female</td><td>No </td><td>2</td><td>0</td></tr>\n",
       "\t<tr><th scope=row>4</th><td>Masters  </td><td>2016</td><td>Bangalore</td><td>3</td><td>27</td><td>Male  </td><td>No </td><td>5</td><td>1</td></tr>\n",
       "\t<tr><th scope=row>5</th><td>Masters  </td><td>2017</td><td>Pune     </td><td>3</td><td>24</td><td>Male  </td><td>Yes</td><td>2</td><td>1</td></tr>\n",
       "\t<tr><th scope=row>6</th><td>Bachelors</td><td>2016</td><td>Bangalore</td><td>3</td><td>22</td><td>Male  </td><td>No </td><td>0</td><td>0</td></tr>\n",
       "</tbody>\n",
       "</table>\n"
      ],
      "text/latex": [
       "A data.frame: 6 × 9\n",
       "\\begin{tabular}{r|lllllllll}\n",
       "  & Education & JoiningYear & City & PaymentTier & Age & Gender & EverBenched & ExperienceInCurrentDomain & LeaveOrNot\\\\\n",
       "  & <chr> & <int> & <chr> & <int> & <int> & <chr> & <chr> & <int> & <int>\\\\\n",
       "\\hline\n",
       "\t1 & Bachelors & 2017 & Bangalore & 3 & 34 & Male   & No  & 0 & 0\\\\\n",
       "\t2 & Bachelors & 2013 & Pune      & 1 & 28 & Female & No  & 3 & 1\\\\\n",
       "\t3 & Bachelors & 2014 & New Delhi & 3 & 38 & Female & No  & 2 & 0\\\\\n",
       "\t4 & Masters   & 2016 & Bangalore & 3 & 27 & Male   & No  & 5 & 1\\\\\n",
       "\t5 & Masters   & 2017 & Pune      & 3 & 24 & Male   & Yes & 2 & 1\\\\\n",
       "\t6 & Bachelors & 2016 & Bangalore & 3 & 22 & Male   & No  & 0 & 0\\\\\n",
       "\\end{tabular}\n"
      ],
      "text/markdown": [
       "\n",
       "A data.frame: 6 × 9\n",
       "\n",
       "| <!--/--> | Education &lt;chr&gt; | JoiningYear &lt;int&gt; | City &lt;chr&gt; | PaymentTier &lt;int&gt; | Age &lt;int&gt; | Gender &lt;chr&gt; | EverBenched &lt;chr&gt; | ExperienceInCurrentDomain &lt;int&gt; | LeaveOrNot &lt;int&gt; |\n",
       "|---|---|---|---|---|---|---|---|---|---|\n",
       "| 1 | Bachelors | 2017 | Bangalore | 3 | 34 | Male   | No  | 0 | 0 |\n",
       "| 2 | Bachelors | 2013 | Pune      | 1 | 28 | Female | No  | 3 | 1 |\n",
       "| 3 | Bachelors | 2014 | New Delhi | 3 | 38 | Female | No  | 2 | 0 |\n",
       "| 4 | Masters   | 2016 | Bangalore | 3 | 27 | Male   | No  | 5 | 1 |\n",
       "| 5 | Masters   | 2017 | Pune      | 3 | 24 | Male   | Yes | 2 | 1 |\n",
       "| 6 | Bachelors | 2016 | Bangalore | 3 | 22 | Male   | No  | 0 | 0 |\n",
       "\n"
      ],
      "text/plain": [
       "  Education JoiningYear City      PaymentTier Age Gender EverBenched\n",
       "1 Bachelors 2017        Bangalore 3           34  Male   No         \n",
       "2 Bachelors 2013        Pune      1           28  Female No         \n",
       "3 Bachelors 2014        New Delhi 3           38  Female No         \n",
       "4 Masters   2016        Bangalore 3           27  Male   No         \n",
       "5 Masters   2017        Pune      3           24  Male   Yes        \n",
       "6 Bachelors 2016        Bangalore 3           22  Male   No         \n",
       "  ExperienceInCurrentDomain LeaveOrNot\n",
       "1 0                         0         \n",
       "2 3                         1         \n",
       "3 2                         0         \n",
       "4 5                         1         \n",
       "5 2                         1         \n",
       "6 0                         0         "
      ]
     },
     "metadata": {},
     "output_type": "display_data"
    },
    {
     "data": {
      "text/html": [
       "<table class=\"dataframe\">\n",
       "<caption>A data.frame: 6 × 9</caption>\n",
       "<thead>\n",
       "\t<tr><th></th><th scope=col>Education</th><th scope=col>JoiningYear</th><th scope=col>City</th><th scope=col>PaymentTier</th><th scope=col>Age</th><th scope=col>Gender</th><th scope=col>EverBenched</th><th scope=col>ExperienceInCurrentDomain</th><th scope=col>LeaveOrNot</th></tr>\n",
       "\t<tr><th></th><th scope=col>&lt;chr&gt;</th><th scope=col>&lt;int&gt;</th><th scope=col>&lt;chr&gt;</th><th scope=col>&lt;int&gt;</th><th scope=col>&lt;int&gt;</th><th scope=col>&lt;chr&gt;</th><th scope=col>&lt;chr&gt;</th><th scope=col>&lt;int&gt;</th><th scope=col>&lt;int&gt;</th></tr>\n",
       "</thead>\n",
       "<tbody>\n",
       "\t<tr><th scope=row>4648</th><td>Bachelors</td><td>2016</td><td>Pune     </td><td>3</td><td>30</td><td>Male  </td><td>No </td><td>2</td><td>0</td></tr>\n",
       "\t<tr><th scope=row>4649</th><td>Bachelors</td><td>2013</td><td>Bangalore</td><td>3</td><td>26</td><td>Female</td><td>No </td><td>4</td><td>0</td></tr>\n",
       "\t<tr><th scope=row>4650</th><td>Masters  </td><td>2013</td><td>Pune     </td><td>2</td><td>37</td><td>Male  </td><td>No </td><td>2</td><td>1</td></tr>\n",
       "\t<tr><th scope=row>4651</th><td>Masters  </td><td>2018</td><td>New Delhi</td><td>3</td><td>27</td><td>Male  </td><td>No </td><td>5</td><td>1</td></tr>\n",
       "\t<tr><th scope=row>4652</th><td>Bachelors</td><td>2012</td><td>Bangalore</td><td>3</td><td>30</td><td>Male  </td><td>Yes</td><td>2</td><td>0</td></tr>\n",
       "\t<tr><th scope=row>4653</th><td>Bachelors</td><td>2015</td><td>Bangalore</td><td>3</td><td>33</td><td>Male  </td><td>Yes</td><td>4</td><td>0</td></tr>\n",
       "</tbody>\n",
       "</table>\n"
      ],
      "text/latex": [
       "A data.frame: 6 × 9\n",
       "\\begin{tabular}{r|lllllllll}\n",
       "  & Education & JoiningYear & City & PaymentTier & Age & Gender & EverBenched & ExperienceInCurrentDomain & LeaveOrNot\\\\\n",
       "  & <chr> & <int> & <chr> & <int> & <int> & <chr> & <chr> & <int> & <int>\\\\\n",
       "\\hline\n",
       "\t4648 & Bachelors & 2016 & Pune      & 3 & 30 & Male   & No  & 2 & 0\\\\\n",
       "\t4649 & Bachelors & 2013 & Bangalore & 3 & 26 & Female & No  & 4 & 0\\\\\n",
       "\t4650 & Masters   & 2013 & Pune      & 2 & 37 & Male   & No  & 2 & 1\\\\\n",
       "\t4651 & Masters   & 2018 & New Delhi & 3 & 27 & Male   & No  & 5 & 1\\\\\n",
       "\t4652 & Bachelors & 2012 & Bangalore & 3 & 30 & Male   & Yes & 2 & 0\\\\\n",
       "\t4653 & Bachelors & 2015 & Bangalore & 3 & 33 & Male   & Yes & 4 & 0\\\\\n",
       "\\end{tabular}\n"
      ],
      "text/markdown": [
       "\n",
       "A data.frame: 6 × 9\n",
       "\n",
       "| <!--/--> | Education &lt;chr&gt; | JoiningYear &lt;int&gt; | City &lt;chr&gt; | PaymentTier &lt;int&gt; | Age &lt;int&gt; | Gender &lt;chr&gt; | EverBenched &lt;chr&gt; | ExperienceInCurrentDomain &lt;int&gt; | LeaveOrNot &lt;int&gt; |\n",
       "|---|---|---|---|---|---|---|---|---|---|\n",
       "| 4648 | Bachelors | 2016 | Pune      | 3 | 30 | Male   | No  | 2 | 0 |\n",
       "| 4649 | Bachelors | 2013 | Bangalore | 3 | 26 | Female | No  | 4 | 0 |\n",
       "| 4650 | Masters   | 2013 | Pune      | 2 | 37 | Male   | No  | 2 | 1 |\n",
       "| 4651 | Masters   | 2018 | New Delhi | 3 | 27 | Male   | No  | 5 | 1 |\n",
       "| 4652 | Bachelors | 2012 | Bangalore | 3 | 30 | Male   | Yes | 2 | 0 |\n",
       "| 4653 | Bachelors | 2015 | Bangalore | 3 | 33 | Male   | Yes | 4 | 0 |\n",
       "\n"
      ],
      "text/plain": [
       "     Education JoiningYear City      PaymentTier Age Gender EverBenched\n",
       "4648 Bachelors 2016        Pune      3           30  Male   No         \n",
       "4649 Bachelors 2013        Bangalore 3           26  Female No         \n",
       "4650 Masters   2013        Pune      2           37  Male   No         \n",
       "4651 Masters   2018        New Delhi 3           27  Male   No         \n",
       "4652 Bachelors 2012        Bangalore 3           30  Male   Yes        \n",
       "4653 Bachelors 2015        Bangalore 3           33  Male   Yes        \n",
       "     ExperienceInCurrentDomain LeaveOrNot\n",
       "4648 2                         0         \n",
       "4649 4                         0         \n",
       "4650 2                         1         \n",
       "4651 5                         1         \n",
       "4652 2                         0         \n",
       "4653 4                         0         "
      ]
     },
     "metadata": {},
     "output_type": "display_data"
    }
   ],
   "source": [
    "employee_data <- read.csv(\"data/Employee.csv\")\n",
    "\n",
    "head(employee_data)\n",
    "tail(employee_data)"
   ]
  },
  {
   "cell_type": "markdown",
   "id": "ecc87cea-bc9f-4c01-ba9a-6709d9a63101",
   "metadata": {},
   "source": [
    "Check the packaging"
   ]
  },
  {
   "cell_type": "code",
   "execution_count": 3,
   "id": "aa7273bc-7aa4-499a-82cb-ff7ecf9b5da7",
   "metadata": {},
   "outputs": [
    {
     "name": "stdout",
     "output_type": "stream",
     "text": [
      "'data.frame':\t4653 obs. of  9 variables:\n",
      " $ Education                : chr  \"Bachelors\" \"Bachelors\" \"Bachelors\" \"Masters\" ...\n",
      " $ JoiningYear              : int  2017 2013 2014 2016 2017 2016 2015 2016 2016 2017 ...\n",
      " $ City                     : chr  \"Bangalore\" \"Pune\" \"New Delhi\" \"Bangalore\" ...\n",
      " $ PaymentTier              : int  3 1 3 3 3 3 3 3 3 2 ...\n",
      " $ Age                      : int  34 28 38 27 24 22 38 34 23 37 ...\n",
      " $ Gender                   : chr  \"Male\" \"Female\" \"Female\" \"Male\" ...\n",
      " $ EverBenched              : chr  \"No\" \"No\" \"No\" \"No\" ...\n",
      " $ ExperienceInCurrentDomain: int  0 3 2 5 2 0 0 2 1 2 ...\n",
      " $ LeaveOrNot               : int  0 1 0 1 1 0 0 1 0 0 ...\n"
     ]
    }
   ],
   "source": [
    "str(employee_data)"
   ]
  },
  {
   "cell_type": "markdown",
   "id": "bb48f5d5-8508-41ac-a1c9-c971ee084408",
   "metadata": {},
   "source": [
    "Identify missing values"
   ]
  },
  {
   "cell_type": "code",
   "execution_count": 4,
   "id": "20dbf165-eb06-410a-910c-f991ebccefa1",
   "metadata": {},
   "outputs": [
    {
     "data": {
      "text/html": [
       "<style>\n",
       ".dl-inline {width: auto; margin:0; padding: 0}\n",
       ".dl-inline>dt, .dl-inline>dd {float: none; width: auto; display: inline-block}\n",
       ".dl-inline>dt::after {content: \":\\0020\"; padding-right: .5ex}\n",
       ".dl-inline>dt:not(:first-of-type) {padding-left: .5ex}\n",
       "</style><dl class=dl-inline><dt>Education</dt><dd>0</dd><dt>JoiningYear</dt><dd>0</dd><dt>City</dt><dd>0</dd><dt>PaymentTier</dt><dd>0</dd><dt>Age</dt><dd>0</dd><dt>Gender</dt><dd>0</dd><dt>EverBenched</dt><dd>0</dd><dt>ExperienceInCurrentDomain</dt><dd>0</dd><dt>LeaveOrNot</dt><dd>0</dd></dl>\n"
      ],
      "text/latex": [
       "\\begin{description*}\n",
       "\\item[Education] 0\n",
       "\\item[JoiningYear] 0\n",
       "\\item[City] 0\n",
       "\\item[PaymentTier] 0\n",
       "\\item[Age] 0\n",
       "\\item[Gender] 0\n",
       "\\item[EverBenched] 0\n",
       "\\item[ExperienceInCurrentDomain] 0\n",
       "\\item[LeaveOrNot] 0\n",
       "\\end{description*}\n"
      ],
      "text/markdown": [
       "Education\n",
       ":   0JoiningYear\n",
       ":   0City\n",
       ":   0PaymentTier\n",
       ":   0Age\n",
       ":   0Gender\n",
       ":   0EverBenched\n",
       ":   0ExperienceInCurrentDomain\n",
       ":   0LeaveOrNot\n",
       ":   0\n",
       "\n"
      ],
      "text/plain": [
       "                Education               JoiningYear                      City \n",
       "                        0                         0                         0 \n",
       "              PaymentTier                       Age                    Gender \n",
       "                        0                         0                         0 \n",
       "              EverBenched ExperienceInCurrentDomain                LeaveOrNot \n",
       "                        0                         0                         0 "
      ]
     },
     "metadata": {},
     "output_type": "display_data"
    }
   ],
   "source": [
    "colSums(is.na(employee_data))"
   ]
  },
  {
   "cell_type": "markdown",
   "id": "cf8b2593-2a8d-4df6-84be-4e84836b8b29",
   "metadata": {},
   "source": [
    "Rename columns for readability"
   ]
  },
  {
   "cell_type": "code",
   "execution_count": 5,
   "id": "2c0f8401-1ed0-44e5-acef-0d64b711cead",
   "metadata": {},
   "outputs": [],
   "source": [
    "employee_data <- employee_data %>%\n",
    "  rename(\n",
    "    Experience = `ExperienceInCurrentDomain`,\n",
    "    Left = `LeaveOrNot`\n",
    "  )"
   ]
  },
  {
   "cell_type": "markdown",
   "id": "33592eed-0141-48f1-973e-a510cf639992",
   "metadata": {},
   "source": [
    "Convert categorical variables to factors"
   ]
  },
  {
   "cell_type": "code",
   "execution_count": 6,
   "id": "61fcec55-8a0e-4c19-a8af-7c29ecbcc3bc",
   "metadata": {},
   "outputs": [],
   "source": [
    "employee_data <- employee_data %>%\n",
    "  mutate(\n",
    "    Education = as.factor(Education),\n",
    "    Gender = as.factor(Gender),\n",
    "    City = as.factor(City),\n",
    "    PaymentTier = factor(`PaymentTier`, levels = c(1, 2, 3), ordered = TRUE),\n",
    "    EverBenched = as.factor(EverBenched),\n",
    "    Left = as.factor(Left)\n",
    "  )"
   ]
  },
  {
   "cell_type": "code",
   "execution_count": 7,
   "id": "cd3ccb13-8fac-41b7-9af2-4e7e8442c7a8",
   "metadata": {},
   "outputs": [
    {
     "data": {
      "text/html": [
       "<table class=\"dataframe\">\n",
       "<caption>A data.frame: 6 × 9</caption>\n",
       "<thead>\n",
       "\t<tr><th></th><th scope=col>Education</th><th scope=col>JoiningYear</th><th scope=col>City</th><th scope=col>PaymentTier</th><th scope=col>Age</th><th scope=col>Gender</th><th scope=col>EverBenched</th><th scope=col>Experience</th><th scope=col>Left</th></tr>\n",
       "\t<tr><th></th><th scope=col>&lt;fct&gt;</th><th scope=col>&lt;int&gt;</th><th scope=col>&lt;fct&gt;</th><th scope=col>&lt;ord&gt;</th><th scope=col>&lt;int&gt;</th><th scope=col>&lt;fct&gt;</th><th scope=col>&lt;fct&gt;</th><th scope=col>&lt;int&gt;</th><th scope=col>&lt;fct&gt;</th></tr>\n",
       "</thead>\n",
       "<tbody>\n",
       "\t<tr><th scope=row>1</th><td>Bachelors</td><td>2017</td><td>Bangalore</td><td>3</td><td>34</td><td>Male  </td><td>No </td><td>0</td><td>0</td></tr>\n",
       "\t<tr><th scope=row>2</th><td>Bachelors</td><td>2013</td><td>Pune     </td><td>1</td><td>28</td><td>Female</td><td>No </td><td>3</td><td>1</td></tr>\n",
       "\t<tr><th scope=row>3</th><td>Bachelors</td><td>2014</td><td>New Delhi</td><td>3</td><td>38</td><td>Female</td><td>No </td><td>2</td><td>0</td></tr>\n",
       "\t<tr><th scope=row>4</th><td>Masters  </td><td>2016</td><td>Bangalore</td><td>3</td><td>27</td><td>Male  </td><td>No </td><td>5</td><td>1</td></tr>\n",
       "\t<tr><th scope=row>5</th><td>Masters  </td><td>2017</td><td>Pune     </td><td>3</td><td>24</td><td>Male  </td><td>Yes</td><td>2</td><td>1</td></tr>\n",
       "\t<tr><th scope=row>6</th><td>Bachelors</td><td>2016</td><td>Bangalore</td><td>3</td><td>22</td><td>Male  </td><td>No </td><td>0</td><td>0</td></tr>\n",
       "</tbody>\n",
       "</table>\n"
      ],
      "text/latex": [
       "A data.frame: 6 × 9\n",
       "\\begin{tabular}{r|lllllllll}\n",
       "  & Education & JoiningYear & City & PaymentTier & Age & Gender & EverBenched & Experience & Left\\\\\n",
       "  & <fct> & <int> & <fct> & <ord> & <int> & <fct> & <fct> & <int> & <fct>\\\\\n",
       "\\hline\n",
       "\t1 & Bachelors & 2017 & Bangalore & 3 & 34 & Male   & No  & 0 & 0\\\\\n",
       "\t2 & Bachelors & 2013 & Pune      & 1 & 28 & Female & No  & 3 & 1\\\\\n",
       "\t3 & Bachelors & 2014 & New Delhi & 3 & 38 & Female & No  & 2 & 0\\\\\n",
       "\t4 & Masters   & 2016 & Bangalore & 3 & 27 & Male   & No  & 5 & 1\\\\\n",
       "\t5 & Masters   & 2017 & Pune      & 3 & 24 & Male   & Yes & 2 & 1\\\\\n",
       "\t6 & Bachelors & 2016 & Bangalore & 3 & 22 & Male   & No  & 0 & 0\\\\\n",
       "\\end{tabular}\n"
      ],
      "text/markdown": [
       "\n",
       "A data.frame: 6 × 9\n",
       "\n",
       "| <!--/--> | Education &lt;fct&gt; | JoiningYear &lt;int&gt; | City &lt;fct&gt; | PaymentTier &lt;ord&gt; | Age &lt;int&gt; | Gender &lt;fct&gt; | EverBenched &lt;fct&gt; | Experience &lt;int&gt; | Left &lt;fct&gt; |\n",
       "|---|---|---|---|---|---|---|---|---|---|\n",
       "| 1 | Bachelors | 2017 | Bangalore | 3 | 34 | Male   | No  | 0 | 0 |\n",
       "| 2 | Bachelors | 2013 | Pune      | 1 | 28 | Female | No  | 3 | 1 |\n",
       "| 3 | Bachelors | 2014 | New Delhi | 3 | 38 | Female | No  | 2 | 0 |\n",
       "| 4 | Masters   | 2016 | Bangalore | 3 | 27 | Male   | No  | 5 | 1 |\n",
       "| 5 | Masters   | 2017 | Pune      | 3 | 24 | Male   | Yes | 2 | 1 |\n",
       "| 6 | Bachelors | 2016 | Bangalore | 3 | 22 | Male   | No  | 0 | 0 |\n",
       "\n"
      ],
      "text/plain": [
       "  Education JoiningYear City      PaymentTier Age Gender EverBenched Experience\n",
       "1 Bachelors 2017        Bangalore 3           34  Male   No          0         \n",
       "2 Bachelors 2013        Pune      1           28  Female No          3         \n",
       "3 Bachelors 2014        New Delhi 3           38  Female No          2         \n",
       "4 Masters   2016        Bangalore 3           27  Male   No          5         \n",
       "5 Masters   2017        Pune      3           24  Male   Yes         2         \n",
       "6 Bachelors 2016        Bangalore 3           22  Male   No          0         \n",
       "  Left\n",
       "1 0   \n",
       "2 1   \n",
       "3 0   \n",
       "4 1   \n",
       "5 1   \n",
       "6 0   "
      ]
     },
     "metadata": {},
     "output_type": "display_data"
    }
   ],
   "source": [
    "head(employee_data)"
   ]
  },
  {
   "cell_type": "markdown",
   "id": "dfb7c6f3-7a82-4f2d-aa78-4159945729de",
   "metadata": {},
   "source": [
    "Get summary statistics"
   ]
  },
  {
   "cell_type": "code",
   "execution_count": 8,
   "id": "afe4eb62-9b86-4b9a-9157-aba3022dc5d2",
   "metadata": {},
   "outputs": [
    {
     "data": {
      "text/plain": [
       "     Education     JoiningYear          City      PaymentTier      Age       \n",
       " Bachelors:3601   Min.   :2012   Bangalore:2228   1: 243      Min.   :22.00  \n",
       " Masters  : 873   1st Qu.:2013   New Delhi:1157   2: 918      1st Qu.:26.00  \n",
       " PHD      : 179   Median :2015   Pune     :1268   3:3492      Median :28.00  \n",
       "                  Mean   :2015                                Mean   :29.39  \n",
       "                  3rd Qu.:2017                                3rd Qu.:32.00  \n",
       "                  Max.   :2018                                Max.   :41.00  \n",
       "    Gender     EverBenched   Experience    Left    \n",
       " Female:1875   No :4175    Min.   :0.000   0:3053  \n",
       " Male  :2778   Yes: 478    1st Qu.:2.000   1:1600  \n",
       "                           Median :3.000           \n",
       "                           Mean   :2.906           \n",
       "                           3rd Qu.:4.000           \n",
       "                           Max.   :7.000           "
      ]
     },
     "metadata": {},
     "output_type": "display_data"
    }
   ],
   "source": [
    "summary(employee_data)"
   ]
  },
  {
   "cell_type": "code",
   "execution_count": 9,
   "id": "5e02fdec-3cab-4626-8fe4-ebf930816af5",
   "metadata": {},
   "outputs": [
    {
     "data": {
      "text/html": [
       "<table class=\"dataframe\">\n",
       "<caption>A tibble: 3 × 7</caption>\n",
       "<thead>\n",
       "\t<tr><th scope=col>PaymentTier</th><th scope=col>Mean_Experience</th><th scope=col>Median_Experience</th><th scope=col>SD_Experience</th><th scope=col>Min_Experience</th><th scope=col>Max_Experience</th><th scope=col>Count</th></tr>\n",
       "\t<tr><th scope=col>&lt;ord&gt;</th><th scope=col>&lt;dbl&gt;</th><th scope=col>&lt;dbl&gt;</th><th scope=col>&lt;dbl&gt;</th><th scope=col>&lt;int&gt;</th><th scope=col>&lt;int&gt;</th><th scope=col>&lt;int&gt;</th></tr>\n",
       "</thead>\n",
       "<tbody>\n",
       "\t<tr><td>1</td><td>2.761317</td><td>3</td><td>1.644118</td><td>0</td><td>7</td><td> 243</td></tr>\n",
       "\t<tr><td>2</td><td>2.900871</td><td>3</td><td>1.514013</td><td>0</td><td>7</td><td> 918</td></tr>\n",
       "\t<tr><td>3</td><td>2.916953</td><td>3</td><td>1.563505</td><td>0</td><td>7</td><td>3492</td></tr>\n",
       "</tbody>\n",
       "</table>\n"
      ],
      "text/latex": [
       "A tibble: 3 × 7\n",
       "\\begin{tabular}{lllllll}\n",
       " PaymentTier & Mean\\_Experience & Median\\_Experience & SD\\_Experience & Min\\_Experience & Max\\_Experience & Count\\\\\n",
       " <ord> & <dbl> & <dbl> & <dbl> & <int> & <int> & <int>\\\\\n",
       "\\hline\n",
       "\t 1 & 2.761317 & 3 & 1.644118 & 0 & 7 &  243\\\\\n",
       "\t 2 & 2.900871 & 3 & 1.514013 & 0 & 7 &  918\\\\\n",
       "\t 3 & 2.916953 & 3 & 1.563505 & 0 & 7 & 3492\\\\\n",
       "\\end{tabular}\n"
      ],
      "text/markdown": [
       "\n",
       "A tibble: 3 × 7\n",
       "\n",
       "| PaymentTier &lt;ord&gt; | Mean_Experience &lt;dbl&gt; | Median_Experience &lt;dbl&gt; | SD_Experience &lt;dbl&gt; | Min_Experience &lt;int&gt; | Max_Experience &lt;int&gt; | Count &lt;int&gt; |\n",
       "|---|---|---|---|---|---|---|\n",
       "| 1 | 2.761317 | 3 | 1.644118 | 0 | 7 |  243 |\n",
       "| 2 | 2.900871 | 3 | 1.514013 | 0 | 7 |  918 |\n",
       "| 3 | 2.916953 | 3 | 1.563505 | 0 | 7 | 3492 |\n",
       "\n"
      ],
      "text/plain": [
       "  PaymentTier Mean_Experience Median_Experience SD_Experience Min_Experience\n",
       "1 1           2.761317        3                 1.644118      0             \n",
       "2 2           2.900871        3                 1.514013      0             \n",
       "3 3           2.916953        3                 1.563505      0             \n",
       "  Max_Experience Count\n",
       "1 7               243 \n",
       "2 7               918 \n",
       "3 7              3492 "
      ]
     },
     "metadata": {},
     "output_type": "display_data"
    }
   ],
   "source": [
    "experience_summary <- employee_data %>%\n",
    "  group_by(PaymentTier) %>%\n",
    "  summarise(\n",
    "    Mean_Experience = mean(Experience, na.rm = TRUE),\n",
    "    Median_Experience = median(Experience, na.rm = TRUE),\n",
    "    SD_Experience = sd(Experience, na.rm = TRUE),\n",
    "    Min_Experience = min(Experience, na.rm = TRUE),\n",
    "    Max_Experience = max(Experience, na.rm = TRUE),\n",
    "    Count = n()\n",
    "  )\n",
    "experience_summary"
   ]
  },
  {
   "cell_type": "markdown",
   "id": "94b758af-6fb5-452b-84c8-5d13cc27a2a2",
   "metadata": {},
   "source": [
    "Save the Cleaned Data"
   ]
  },
  {
   "cell_type": "code",
   "execution_count": 10,
   "id": "38b98c66-abf8-4930-ab6c-d8600e93f33e",
   "metadata": {},
   "outputs": [],
   "source": [
    "write_csv(employee_data, \"data/cleaned_employee_data.csv\")"
   ]
  },
  {
   "cell_type": "code",
   "execution_count": 11,
   "id": "c5ad9365-a4aa-467c-bede-a7ae0f851853",
   "metadata": {},
   "outputs": [
    {
     "name": "stdout",
     "output_type": "stream",
     "text": [
      "Rows: 4,653\n",
      "Columns: 9\n",
      "$ Education   \u001b[3m\u001b[90m<fct>\u001b[39m\u001b[23m Bachelors, Bachelors, Bachelors, Masters, Masters, Bachelo…\n",
      "$ JoiningYear \u001b[3m\u001b[90m<int>\u001b[39m\u001b[23m 2017, 2013, 2014, 2016, 2017, 2016, 2015, 2016, 2016, 2017…\n",
      "$ City        \u001b[3m\u001b[90m<fct>\u001b[39m\u001b[23m Bangalore, Pune, New Delhi, Bangalore, Pune, Bangalore, Ne…\n",
      "$ PaymentTier \u001b[3m\u001b[90m<ord>\u001b[39m\u001b[23m 3, 1, 3, 3, 3, 3, 3, 3, 3, 2, 3, 3, 3, 3, 3, 1, 3, 3, 2, 2…\n",
      "$ Age         \u001b[3m\u001b[90m<int>\u001b[39m\u001b[23m 34, 28, 38, 27, 24, 22, 38, 34, 23, 37, 27, 34, 32, 39, 37…\n",
      "$ Gender      \u001b[3m\u001b[90m<fct>\u001b[39m\u001b[23m Male, Female, Female, Male, Male, Male, Male, Female, Male…\n",
      "$ EverBenched \u001b[3m\u001b[90m<fct>\u001b[39m\u001b[23m No, No, No, No, Yes, No, No, No, No, No, No, No, Yes, No, …\n",
      "$ Experience  \u001b[3m\u001b[90m<int>\u001b[39m\u001b[23m 0, 3, 2, 5, 2, 0, 0, 2, 1, 2, 5, 3, 5, 2, 4, 3, 2, 4, 0, 0…\n",
      "$ Left        \u001b[3m\u001b[90m<fct>\u001b[39m\u001b[23m 0, 1, 0, 1, 1, 0, 0, 1, 0, 0, 1, 0, 1, 0, 0, 0, 0, 0, 1, 1…\n"
     ]
    }
   ],
   "source": [
    "glimpse(employee_data)"
   ]
  },
  {
   "cell_type": "markdown",
   "id": "598e3e6d-d796-4c22-8537-5f0a619a22b8",
   "metadata": {},
   "source": [
    "## Proposed Visualizations"
   ]
  },
  {
   "cell_type": "markdown",
   "id": "caa435e2-320b-4749-ba05-323f0b7bbb78",
   "metadata": {},
   "source": [
    "#### Bar Chart of 'Left' by Payment Tier\n",
    "\n",
    "Displays attrition trends across payment tiers."
   ]
  },
  {
   "cell_type": "code",
   "execution_count": 12,
   "id": "c780add1-9db6-4d37-b859-758f636aa14e",
   "metadata": {},
   "outputs": [
    {
     "data": {
      "image/png": "[encoded data removed]",
      "text/plain": [
       "plot without title"
      ]
     },
     "metadata": {
      "image/png": {
       "height": 420,
       "width": 420
      }
     },
     "output_type": "display_data"
    }
   ],
   "source": [
    "ggplot(employee_data, aes(x = PaymentTier, fill = Left)) +\n",
    "  geom_bar(position = \"dodge\") +\n",
    "  labs(title = \"Distribution of 'Left' by Payment Tier\",\n",
    "       x = \"Payment Tier\", y = \"Count\", fill = \"Left (0 = Stayed, 1 = Left)\") +\n",
    "  theme_minimal()"
   ]
  },
  {
   "cell_type": "markdown",
   "id": "38961e75-7cbb-4e14-bfbc-9a325ccb9e35",
   "metadata": {},
   "source": [
    "#### Bar Chart of 'Left' by Education\n",
    "\n",
    "Shows how education level impacts attrition."
   ]
  },
  {
   "cell_type": "code",
   "execution_count": 13,
   "id": "c0d14b9e-5151-4d6d-96dc-0dc649efaa3e",
   "metadata": {},
   "outputs": [
    {
     "data": {
      "image/png": "[encoded data removed]",
      "text/plain": [
       "plot without title"
      ]
     },
     "metadata": {
      "image/png": {
       "height": 420,
       "width": 420
      }
     },
     "output_type": "display_data"
    }
   ],
   "source": [
    "ggplot(employee_data, aes(x = Education, fill = Left)) +\n",
    "  geom_bar(position = \"dodge\") +\n",
    "  labs(title = \"Distribution of 'Left' by Education Level\",\n",
    "       x = \"Education Level\", y = \"Count\", fill = \"Left (0 = Stayed, 1 = Left)\") +\n",
    "  theme_minimal()"
   ]
  },
  {
   "cell_type": "markdown",
   "id": "51d1b538-12ea-4330-8cda-441bcc453633",
   "metadata": {},
   "source": [
    "#### Boxplot of Experience by 'Left'\n",
    "\n",
    "Highlights differences in years of experience between employees who stayed and those who left."
   ]
  },
  {
   "cell_type": "code",
   "execution_count": 14,
   "id": "2a9fa36a-6616-46a7-b369-e7e9c9f3d9bb",
   "metadata": {},
   "outputs": [
    {
     "data": {
      "image/png": "[encoded data removed]",
      "text/plain": [
       "plot without title"
      ]
     },
     "metadata": {
      "image/png": {
       "height": 420,
       "width": 420
      }
     },
     "output_type": "display_data"
    }
   ],
   "source": [
    "ggplot(employee_data, aes(x = Left, y = Experience, fill = Left)) +\n",
    "  geom_boxplot() +\n",
    "  labs(title = \"Experience in Current Domain vs 'Left'\",\n",
    "       x = \"Left (0 = Stayed, 1 = Left)\", y = \"Years of Experience\") +\n",
    "  theme_minimal()"
   ]
  },
  {
   "cell_type": "markdown",
   "id": "3cd64c0d-5e6f-43bd-bee3-5151acab04a5",
   "metadata": {},
   "source": [
    "## Methods and Plan Explanation\n",
    "\n",
    "The goal of this project is to predict employee attrition using a logistic regression model with Lasso regularization (L1 penalty).\n",
    "\n",
    "#### Why this Method is Appropriate\n",
    "\n",
    "Lasso Regression will be used to predict employee attrition because it combines feature selection and model regularization. Lasso uses L1 regularization, which reduces less important coefficients to zero, effectively eliminating irrelevant predictors. This is especially effective for datasets with multiple predictors since it simplifies the model and lowers the likelihood of overfitting. Lasso also handles multicollinearity by penalizing correlated predictors, making it perfect for this dataset, which includes numerical, ordinal, and categorical data.\n",
    "\n",
    "The dataset has 4,653 observations, which are adequate for Lasso to discover meaningful patterns. Furthermore, we will use logistic regression to handle the binary response variable ('Leave or Not'). Cross-validation will be used to find the best penalty parameter (lambda). This ensures that the model generalizes well to unseen data.\n",
    "\n",
    "#### Assumptions Required\n",
    "\n",
    "- Linear Relationship: Lasso assumes a linear relationship between predictors and the log-odds of the target variable.\n",
    "- No Perfect Multicollinearity: Lasso assumes no perfect multicollinearity between the predictors.\n",
    "- Independent Errors: Residuals are assumed to be independent and normally distributed.\n",
    "- Sufficient Sample Size: Lasso requires an adequate sample size for effective variable selection.\n",
    "\n",
    "#### Plan for Implementation\n",
    "\n",
    "- The dataset will be first split into 70% training and 30% testing subsets to assess model performance.\n",
    "- Predictors are transformed into a matrix format and a Lasso logistic regression model will be trained using cross-validation to identify the optimal lambda.\n",
    "- The model will be evaluated on the test set using metrics such as accuracy, sensitivity, specificity, ROC and AUC.\n",
    "\n",
    "#### Potential Limitations or Weaknesses\n",
    "\n",
    "- Class Imbalance: The dataset demonstrates a class imbalance, with more employees staying than leaving. This can bias the model toward predicting the majority class. Addressing this imbalance through class weights or resampling techniques could improve results.\n",
    "- Threshold Sensitivity: The default classification threshold (0.5) may not optimize for both sensitivity and specificity. Adjusting the threshold to balance these metrics, depending on our needs, could enhance the model’s utility.\n",
    "- Loss of Non-Linear Interactions: Lasso does not account for non-linear relationships or interactions unless explicitly included in the model. Important interactions, such as between Experience and Payment Tier, might remain unexplored."
   ]
  },
  {
   "cell_type": "markdown",
   "id": "25aec953-e430-4a6f-a70e-fe6e62c44d84",
   "metadata": {},
   "source": [
    "## Implementation of a proposed model"
   ]
  },
  {
   "cell_type": "markdown",
   "id": "346181a4-ac7c-4fd9-9821-77ffa22f389d",
   "metadata": {},
   "source": [
    "#### Split the Data into training set and testing set\n",
    "\n",
    "Divide the dataset into training and testing subsets."
   ]
  },
  {
   "cell_type": "code",
   "execution_count": 37,
   "id": "d56f9ee0-73fa-457a-8c4f-f27953520330",
   "metadata": {},
   "outputs": [
    {
     "data": {
      "text/html": [
       "<table class=\"dataframe\">\n",
       "<caption>A data.frame: 6 × 9</caption>\n",
       "<thead>\n",
       "\t<tr><th></th><th scope=col>Education</th><th scope=col>JoiningYear</th><th scope=col>City</th><th scope=col>PaymentTier</th><th scope=col>Age</th><th scope=col>Gender</th><th scope=col>EverBenched</th><th scope=col>Experience</th><th scope=col>Left</th></tr>\n",
       "\t<tr><th></th><th scope=col>&lt;fct&gt;</th><th scope=col>&lt;int&gt;</th><th scope=col>&lt;fct&gt;</th><th scope=col>&lt;ord&gt;</th><th scope=col>&lt;int&gt;</th><th scope=col>&lt;fct&gt;</th><th scope=col>&lt;fct&gt;</th><th scope=col>&lt;int&gt;</th><th scope=col>&lt;fct&gt;</th></tr>\n",
       "</thead>\n",
       "<tbody>\n",
       "\t<tr><th scope=row>1</th><td>Bachelors</td><td>2017</td><td>Bangalore</td><td>3</td><td>34</td><td>Male  </td><td>No </td><td>0</td><td>0</td></tr>\n",
       "\t<tr><th scope=row>2</th><td>Bachelors</td><td>2013</td><td>Pune     </td><td>1</td><td>28</td><td>Female</td><td>No </td><td>3</td><td>1</td></tr>\n",
       "\t<tr><th scope=row>3</th><td>Bachelors</td><td>2014</td><td>New Delhi</td><td>3</td><td>38</td><td>Female</td><td>No </td><td>2</td><td>0</td></tr>\n",
       "\t<tr><th scope=row>4</th><td>Masters  </td><td>2016</td><td>Bangalore</td><td>3</td><td>27</td><td>Male  </td><td>No </td><td>5</td><td>1</td></tr>\n",
       "\t<tr><th scope=row>5</th><td>Masters  </td><td>2017</td><td>Pune     </td><td>3</td><td>24</td><td>Male  </td><td>Yes</td><td>2</td><td>1</td></tr>\n",
       "\t<tr><th scope=row>7</th><td>Bachelors</td><td>2015</td><td>New Delhi</td><td>3</td><td>38</td><td>Male  </td><td>No </td><td>0</td><td>0</td></tr>\n",
       "</tbody>\n",
       "</table>\n"
      ],
      "text/latex": [
       "A data.frame: 6 × 9\n",
       "\\begin{tabular}{r|lllllllll}\n",
       "  & Education & JoiningYear & City & PaymentTier & Age & Gender & EverBenched & Experience & Left\\\\\n",
       "  & <fct> & <int> & <fct> & <ord> & <int> & <fct> & <fct> & <int> & <fct>\\\\\n",
       "\\hline\n",
       "\t1 & Bachelors & 2017 & Bangalore & 3 & 34 & Male   & No  & 0 & 0\\\\\n",
       "\t2 & Bachelors & 2013 & Pune      & 1 & 28 & Female & No  & 3 & 1\\\\\n",
       "\t3 & Bachelors & 2014 & New Delhi & 3 & 38 & Female & No  & 2 & 0\\\\\n",
       "\t4 & Masters   & 2016 & Bangalore & 3 & 27 & Male   & No  & 5 & 1\\\\\n",
       "\t5 & Masters   & 2017 & Pune      & 3 & 24 & Male   & Yes & 2 & 1\\\\\n",
       "\t7 & Bachelors & 2015 & New Delhi & 3 & 38 & Male   & No  & 0 & 0\\\\\n",
       "\\end{tabular}\n"
      ],
      "text/markdown": [
       "\n",
       "A data.frame: 6 × 9\n",
       "\n",
       "| <!--/--> | Education &lt;fct&gt; | JoiningYear &lt;int&gt; | City &lt;fct&gt; | PaymentTier &lt;ord&gt; | Age &lt;int&gt; | Gender &lt;fct&gt; | EverBenched &lt;fct&gt; | Experience &lt;int&gt; | Left &lt;fct&gt; |\n",
       "|---|---|---|---|---|---|---|---|---|---|\n",
       "| 1 | Bachelors | 2017 | Bangalore | 3 | 34 | Male   | No  | 0 | 0 |\n",
       "| 2 | Bachelors | 2013 | Pune      | 1 | 28 | Female | No  | 3 | 1 |\n",
       "| 3 | Bachelors | 2014 | New Delhi | 3 | 38 | Female | No  | 2 | 0 |\n",
       "| 4 | Masters   | 2016 | Bangalore | 3 | 27 | Male   | No  | 5 | 1 |\n",
       "| 5 | Masters   | 2017 | Pune      | 3 | 24 | Male   | Yes | 2 | 1 |\n",
       "| 7 | Bachelors | 2015 | New Delhi | 3 | 38 | Male   | No  | 0 | 0 |\n",
       "\n"
      ],
      "text/plain": [
       "  Education JoiningYear City      PaymentTier Age Gender EverBenched Experience\n",
       "1 Bachelors 2017        Bangalore 3           34  Male   No          0         \n",
       "2 Bachelors 2013        Pune      1           28  Female No          3         \n",
       "3 Bachelors 2014        New Delhi 3           38  Female No          2         \n",
       "4 Masters   2016        Bangalore 3           27  Male   No          5         \n",
       "5 Masters   2017        Pune      3           24  Male   Yes         2         \n",
       "7 Bachelors 2015        New Delhi 3           38  Male   No          0         \n",
       "  Left\n",
       "1 0   \n",
       "2 1   \n",
       "3 0   \n",
       "4 1   \n",
       "5 1   \n",
       "7 0   "
      ]
     },
     "metadata": {},
     "output_type": "display_data"
    },
    {
     "data": {
      "text/html": [
       "3258"
      ],
      "text/latex": [
       "3258"
      ],
      "text/markdown": [
       "3258"
      ],
      "text/plain": [
       "[1] 3258"
      ]
     },
     "metadata": {},
     "output_type": "display_data"
    },
    {
     "data": {
      "text/html": [
       "<table class=\"dataframe\">\n",
       "<caption>A data.frame: 6 × 9</caption>\n",
       "<thead>\n",
       "\t<tr><th></th><th scope=col>Education</th><th scope=col>JoiningYear</th><th scope=col>City</th><th scope=col>PaymentTier</th><th scope=col>Age</th><th scope=col>Gender</th><th scope=col>EverBenched</th><th scope=col>Experience</th><th scope=col>Left</th></tr>\n",
       "\t<tr><th></th><th scope=col>&lt;fct&gt;</th><th scope=col>&lt;int&gt;</th><th scope=col>&lt;fct&gt;</th><th scope=col>&lt;ord&gt;</th><th scope=col>&lt;int&gt;</th><th scope=col>&lt;fct&gt;</th><th scope=col>&lt;fct&gt;</th><th scope=col>&lt;int&gt;</th><th scope=col>&lt;fct&gt;</th></tr>\n",
       "</thead>\n",
       "<tbody>\n",
       "\t<tr><th scope=row>6</th><td>Bachelors</td><td>2016</td><td>Bangalore</td><td>3</td><td>22</td><td>Male  </td><td>No </td><td>0</td><td>0</td></tr>\n",
       "\t<tr><th scope=row>10</th><td>Masters  </td><td>2017</td><td>New Delhi</td><td>2</td><td>37</td><td>Male  </td><td>No </td><td>2</td><td>0</td></tr>\n",
       "\t<tr><th scope=row>13</th><td>Bachelors</td><td>2018</td><td>Pune     </td><td>3</td><td>32</td><td>Male  </td><td>Yes</td><td>5</td><td>1</td></tr>\n",
       "\t<tr><th scope=row>20</th><td>Bachelors</td><td>2016</td><td>New Delhi</td><td>2</td><td>22</td><td>Female</td><td>No </td><td>0</td><td>1</td></tr>\n",
       "\t<tr><th scope=row>23</th><td>Bachelors</td><td>2017</td><td>New Delhi</td><td>2</td><td>36</td><td>Male  </td><td>No </td><td>3</td><td>0</td></tr>\n",
       "\t<tr><th scope=row>29</th><td>Bachelors</td><td>2013</td><td>Pune     </td><td>2</td><td>31</td><td>Female</td><td>No </td><td>2</td><td>1</td></tr>\n",
       "</tbody>\n",
       "</table>\n"
      ],
      "text/latex": [
       "A data.frame: 6 × 9\n",
       "\\begin{tabular}{r|lllllllll}\n",
       "  & Education & JoiningYear & City & PaymentTier & Age & Gender & EverBenched & Experience & Left\\\\\n",
       "  & <fct> & <int> & <fct> & <ord> & <int> & <fct> & <fct> & <int> & <fct>\\\\\n",
       "\\hline\n",
       "\t6 & Bachelors & 2016 & Bangalore & 3 & 22 & Male   & No  & 0 & 0\\\\\n",
       "\t10 & Masters   & 2017 & New Delhi & 2 & 37 & Male   & No  & 2 & 0\\\\\n",
       "\t13 & Bachelors & 2018 & Pune      & 3 & 32 & Male   & Yes & 5 & 1\\\\\n",
       "\t20 & Bachelors & 2016 & New Delhi & 2 & 22 & Female & No  & 0 & 1\\\\\n",
       "\t23 & Bachelors & 2017 & New Delhi & 2 & 36 & Male   & No  & 3 & 0\\\\\n",
       "\t29 & Bachelors & 2013 & Pune      & 2 & 31 & Female & No  & 2 & 1\\\\\n",
       "\\end{tabular}\n"
      ],
      "text/markdown": [
       "\n",
       "A data.frame: 6 × 9\n",
       "\n",
       "| <!--/--> | Education &lt;fct&gt; | JoiningYear &lt;int&gt; | City &lt;fct&gt; | PaymentTier &lt;ord&gt; | Age &lt;int&gt; | Gender &lt;fct&gt; | EverBenched &lt;fct&gt; | Experience &lt;int&gt; | Left &lt;fct&gt; |\n",
       "|---|---|---|---|---|---|---|---|---|---|\n",
       "| 6 | Bachelors | 2016 | Bangalore | 3 | 22 | Male   | No  | 0 | 0 |\n",
       "| 10 | Masters   | 2017 | New Delhi | 2 | 37 | Male   | No  | 2 | 0 |\n",
       "| 13 | Bachelors | 2018 | Pune      | 3 | 32 | Male   | Yes | 5 | 1 |\n",
       "| 20 | Bachelors | 2016 | New Delhi | 2 | 22 | Female | No  | 0 | 1 |\n",
       "| 23 | Bachelors | 2017 | New Delhi | 2 | 36 | Male   | No  | 3 | 0 |\n",
       "| 29 | Bachelors | 2013 | Pune      | 2 | 31 | Female | No  | 2 | 1 |\n",
       "\n"
      ],
      "text/plain": [
       "   Education JoiningYear City      PaymentTier Age Gender EverBenched\n",
       "6  Bachelors 2016        Bangalore 3           22  Male   No         \n",
       "10 Masters   2017        New Delhi 2           37  Male   No         \n",
       "13 Bachelors 2018        Pune      3           32  Male   Yes        \n",
       "20 Bachelors 2016        New Delhi 2           22  Female No         \n",
       "23 Bachelors 2017        New Delhi 2           36  Male   No         \n",
       "29 Bachelors 2013        Pune      2           31  Female No         \n",
       "   Experience Left\n",
       "6  0          0   \n",
       "10 2          0   \n",
       "13 5          1   \n",
       "20 0          1   \n",
       "23 3          0   \n",
       "29 2          1   "
      ]
     },
     "metadata": {},
     "output_type": "display_data"
    },
    {
     "data": {
      "text/html": [
       "1395"
      ],
      "text/latex": [
       "1395"
      ],
      "text/markdown": [
       "1395"
      ],
      "text/plain": [
       "[1] 1395"
      ]
     },
     "metadata": {},
     "output_type": "display_data"
    }
   ],
   "source": [
    "set.seed(123)\n",
    "\n",
    "trainIndex <- createDataPartition(employee_data$Left, p = 0.7, list = FALSE)\n",
    "trainData <- employee_data[trainIndex, ]  # Training data (70%)\n",
    "testData <- employee_data[-trainIndex, ] # Testing data (30%)\n",
    "\n",
    "head(trainData)\n",
    "nrow(trainData)\n",
    "\n",
    "head(testData)\n",
    "nrow(testData)"
   ]
  },
  {
   "cell_type": "markdown",
   "id": "b7e5ea94-b24b-4686-978f-5d40489098db",
   "metadata": {},
   "source": [
    "#### Build logistic regression model using LASSO regression"
   ]
  },
  {
   "cell_type": "code",
   "execution_count": 56,
   "id": "a90e4913-d926-4df4-b604-6df684b7155c",
   "metadata": {},
   "outputs": [
    {
     "data": {
      "text/html": [
       "0.0009825358016542"
      ],
      "text/latex": [
       "0.0009825358016542"
      ],
      "text/markdown": [
       "0.0009825358016542"
      ],
      "text/plain": [
       "[1] 0.0009825358"
      ]
     },
     "metadata": {},
     "output_type": "display_data"
    }
   ],
   "source": [
    "# Convert predictors to matrix and response to numeric\n",
    "X <- model.matrix(Left ~ ., data = trainData)[, -1]\n",
    "y <- as.numeric(as.character(trainData$Left))\n",
    "\n",
    "# Lasso regression\n",
    "lasso_model <- cv.glmnet(X, y, alpha = 1, family = \"binomial\")\n",
    "best_lambda_lasso <- lasso_model$lambda.min\n",
    "best_lambda_lasso"
   ]
  },
  {
   "cell_type": "code",
   "execution_count": 57,
   "id": "dda87ca3-5eed-4b17-bbbc-20d86368290a",
   "metadata": {},
   "outputs": [
    {
     "data": {
      "text/plain": [
       "12 x 1 sparse Matrix of class \"dgCMatrix\"\n",
       "                            s1\n",
       "(Intercept)      -339.80590541\n",
       "EducationMasters    0.80207581\n",
       "EducationPHD        0.21382954\n",
       "JoiningYear         0.16893209\n",
       "CityNew Delhi      -0.60055176\n",
       "CityPune            0.58930939\n",
       "PaymentTier.L      -0.15862726\n",
       "PaymentTier.Q      -0.51597403\n",
       "Age                -0.02574608\n",
       "GenderMale         -0.81209395\n",
       "EverBenchedYes      0.66186372\n",
       "Experience         -0.05942688"
      ]
     },
     "metadata": {},
     "output_type": "display_data"
    }
   ],
   "source": [
    "# Coefficients for Lasso\n",
    "coef(lasso_model, s = best_lambda_lasso)"
   ]
  },
  {
   "cell_type": "markdown",
   "id": "700636b6-6367-4c4a-8bfd-892cd3f20e51",
   "metadata": {},
   "source": [
    "#### Predict on test data"
   ]
  },
  {
   "cell_type": "code",
   "execution_count": 59,
   "id": "6e94bd38-299e-4a9c-9411-6f729c4bb01a",
   "metadata": {},
   "outputs": [
    {
     "data": {
      "text/plain": [
       "Confusion Matrix and Statistics\n",
       "\n",
       "          Reference\n",
       "Prediction   0   1\n",
       "         0 825 281\n",
       "         1  90 199\n",
       "                                        \n",
       "               Accuracy : 0.7341        \n",
       "                 95% CI : (0.71, 0.7571)\n",
       "    No Information Rate : 0.6559        \n",
       "    P-Value [Acc > NIR] : 2.164e-10     \n",
       "                                        \n",
       "                  Kappa : 0.3493        \n",
       "                                        \n",
       " Mcnemar's Test P-Value : < 2.2e-16     \n",
       "                                        \n",
       "            Sensitivity : 0.9016        \n",
       "            Specificity : 0.4146        \n",
       "         Pos Pred Value : 0.7459        \n",
       "         Neg Pred Value : 0.6886        \n",
       "             Prevalence : 0.6559        \n",
       "         Detection Rate : 0.5914        \n",
       "   Detection Prevalence : 0.7928        \n",
       "      Balanced Accuracy : 0.6581        \n",
       "                                        \n",
       "       'Positive' Class : 0             \n",
       "                                        "
      ]
     },
     "metadata": {},
     "output_type": "display_data"
    }
   ],
   "source": [
    "X_test <- model.matrix(Left ~ ., data = testData)[, -1]\n",
    "lasso_preds <- predict(lasso_model, s = best_lambda_lasso, newx = X_test, type = \"response\")\n",
    "lasso_classes <- ifelse(lasso_preds > 0.5, 1, 0)\n",
    "\n",
    "conf_matrix <- confusionMatrix(as.factor(lasso_classes), testData$Left)\n",
    "conf_matrix"
   ]
  },
  {
   "cell_type": "markdown",
   "id": "69aa0a60-d6f1-4807-a42a-427ae2b6bf6b",
   "metadata": {},
   "source": [
    "#### ROC and AUC"
   ]
  },
  {
   "cell_type": "code",
   "execution_count": 60,
   "id": "1c0e9aa2-bcb0-4c5b-a7a4-13d2e6d0a6de",
   "metadata": {},
   "outputs": [
    {
     "name": "stderr",
     "output_type": "stream",
     "text": [
      "Setting levels: control = 0, case = 1\n",
      "\n",
      "Setting direction: controls < cases\n",
      "\n"
     ]
    },
    {
     "name": "stdout",
     "output_type": "stream",
     "text": [
      "[1] \"AUC: 0.744817850637523\"\n"
     ]
    },
    {
     "data": {
      "image/png": "[encoded data removed]",
      "text/plain": [
       "Plot with title \"ROC Curve\""
      ]
     },
     "metadata": {
      "image/png": {
       "height": 420,
       "width": 420
      }
     },
     "output_type": "display_data"
    }
   ],
   "source": [
    "roc_curve <- roc(testData$`Left`, predicted_probs)\n",
    "plot(roc_curve, col = \"blue\", main = \"ROC Curve\")\n",
    "auc_value <- auc(roc_curve)\n",
    "print(paste(\"AUC:\", auc_value))"
   ]
  },
  {
   "cell_type": "code",
   "execution_count": 61,
   "id": "6e1d12b7-5af5-4287-b015-44a870c01de8",
   "metadata": {},
   "outputs": [
    {
     "data": {
      "text/html": [
       "<style>\n",
       ".dl-inline {width: auto; margin:0; padding: 0}\n",
       ".dl-inline>dt, .dl-inline>dd {float: none; width: auto; display: inline-block}\n",
       ".dl-inline>dt::after {content: \":\\0020\"; padding-right: .5ex}\n",
       ".dl-inline>dt:not(:first-of-type) {padding-left: .5ex}\n",
       "</style><dl class=dl-inline><dt>(Intercept)</dt><dd>5.60820991479407e-151</dd><dt>EducationMasters</dt><dd>2.28581019241598</dd><dt>EducationPHD</dt><dd>1.29536652034015</dd><dt>JoiningYear</dt><dd>1.18770154801214</dd><dt>CityNew Delhi</dt><dd>0.532057965370969</dd><dt>CityPune</dt><dd>1.80525980292679</dd><dt>PaymentTier.L</dt><dd>0.848939961437199</dd><dt>PaymentTier.Q</dt><dd>0.593625962578816</dd><dt>Age</dt><dd>0.973197669419546</dd><dt>GenderMale</dt><dd>0.437581705955754</dd><dt>EverBenchedYes</dt><dd>1.97522127660352</dd><dt>Experience</dt><dd>0.938440997156671</dd></dl>\n"
      ],
      "text/latex": [
       "\\begin{description*}\n",
       "\\item[(Intercept)] 5.60820991479407e-151\n",
       "\\item[EducationMasters] 2.28581019241598\n",
       "\\item[EducationPHD] 1.29536652034015\n",
       "\\item[JoiningYear] 1.18770154801214\n",
       "\\item[CityNew Delhi] 0.532057965370969\n",
       "\\item[CityPune] 1.80525980292679\n",
       "\\item[PaymentTier.L] 0.848939961437199\n",
       "\\item[PaymentTier.Q] 0.593625962578816\n",
       "\\item[Age] 0.973197669419546\n",
       "\\item[GenderMale] 0.437581705955754\n",
       "\\item[EverBenchedYes] 1.97522127660352\n",
       "\\item[Experience] 0.938440997156671\n",
       "\\end{description*}\n"
      ],
      "text/markdown": [
       "(Intercept)\n",
       ":   5.60820991479407e-151EducationMasters\n",
       ":   2.28581019241598EducationPHD\n",
       ":   1.29536652034015JoiningYear\n",
       ":   1.18770154801214CityNew Delhi\n",
       ":   0.532057965370969CityPune\n",
       ":   1.80525980292679PaymentTier.L\n",
       ":   0.848939961437199PaymentTier.Q\n",
       ":   0.593625962578816Age\n",
       ":   0.973197669419546GenderMale\n",
       ":   0.437581705955754EverBenchedYes\n",
       ":   1.97522127660352Experience\n",
       ":   0.938440997156671\n",
       "\n"
      ],
      "text/plain": [
       "     (Intercept) EducationMasters     EducationPHD      JoiningYear \n",
       "   5.608210e-151     2.285810e+00     1.295367e+00     1.187702e+00 \n",
       "   CityNew Delhi         CityPune    PaymentTier.L    PaymentTier.Q \n",
       "    5.320580e-01     1.805260e+00     8.489400e-01     5.936260e-01 \n",
       "             Age       GenderMale   EverBenchedYes       Experience \n",
       "    9.731977e-01     4.375817e-01     1.975221e+00     9.384410e-01 "
      ]
     },
     "metadata": {},
     "output_type": "display_data"
    }
   ],
   "source": [
    "exp(coef(model))"
   ]
  },
  {
   "cell_type": "markdown",
   "id": "e946ab79-56a3-4c94-9e60-444fb248902a",
   "metadata": {},
   "source": [
    "## Interpretation of the Results\n",
    "\n",
    "The Lasso regression model achieved an AUC score of 0.7448, indicating moderate discriminatory power, with high sensitivity (90.16%) for predicting employees who stay but low specificity (41.46%) for identifying those who leave. While the model performs well in retention predictions, it struggles with accurately identifying potential attrition cases, likely due to class imbalance. The ROC curve suggests room for improvement by optimizing the classification threshold to balance sensitivity and specificity. Overall, the model offers actionable insights into employee retention but requires refinement to better predict attrition."
   ]
  },
  {
   "cell_type": "code",
   "execution_count": null,
   "id": "a824f2f9-eec6-42db-b4bf-628b1df55a06",
   "metadata": {},
   "outputs": [],
   "source": []
  }
 ],
 "metadata": {
  "kernelspec": {
   "display_name": "R",
   "language": "R",
   "name": "ir"
  },
  "language_info": {
   "codemirror_mode": "r",
   "file_extension": ".r",
   "mimetype": "text/x-r-source",
   "name": "R",
   "pygments_lexer": "r",
   "version": "4.4.2"
  }
 },
 "nbformat": 4,
 "nbformat_minor": 5
}
