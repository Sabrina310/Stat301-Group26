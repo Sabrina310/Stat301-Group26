{
 "cells": [
  {
   "cell_type": "markdown",
   "id": "176e12f4-01d4-4839-9748-a93d93a565cb",
   "metadata": {},
   "source": [
    "# Final Report "
   ]
  },
  {
   "cell_type": "markdown",
   "id": "d0204ab3-79b0-49d7-a5fa-00d577be0c17",
   "metadata": {},
   "source": [
    "#### Group Members: Ivan, Ruohan, Hiroshi, Samin"
   ]
  },
  {
   "cell_type": "markdown",
   "id": "71fd2625-1848-4ffd-9eac-29a65c516f52",
   "metadata": {},
   "source": [
    "# (1) Introduction"
   ]
  },
  {
   "cell_type": "markdown",
   "id": "64e0ddf9-97bb-4c00-a318-29c8319f7fff",
   "metadata": {},
   "source": [
    "# (2) Methods and Results"
   ]
  },
  {
   "cell_type": "markdown",
   "id": "594bd066-5855-4fc7-910d-855f87a13e01",
   "metadata": {},
   "source": [
    "## a) “Exploratory Data Analysis (EDA)”"
   ]
  },
  {
   "cell_type": "markdown",
   "id": "43ecf365-3361-41b3-8b65-1d99aa41bd34",
   "metadata": {},
   "source": [
    "## b) “Methods: Plan”"
   ]
  },
  {
   "cell_type": "markdown",
   "id": "ab44450d-a6b5-4709-9069-f21a7c5b9432",
   "metadata": {},
   "source": [
    "# (3) Discussion"
   ]
  },
  {
   "cell_type": "markdown",
   "id": "f7d227b5-bef7-4837-a048-58494e216bc9",
   "metadata": {},
   "source": [
    "# (4) References"
   ]
  },
  {
   "cell_type": "code",
   "execution_count": null,
   "id": "b499740b-fbd2-4ac6-b916-f019b2d04b43",
   "metadata": {},
   "outputs": [],
   "source": []
  }
 ],
 "metadata": {
  "kernelspec": {
   "display_name": "R",
   "language": "R",
   "name": "ir"
  },
  "language_info": {
   "codemirror_mode": "r",
   "file_extension": ".r",
   "mimetype": "text/x-r-source",
   "name": "R",
   "pygments_lexer": "r",
   "version": "4.3.3"
  }
 },
 "nbformat": 4,
 "nbformat_minor": 5
}
