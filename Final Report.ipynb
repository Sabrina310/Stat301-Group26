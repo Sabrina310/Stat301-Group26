{
 "cells": [
  {
   "cell_type": "markdown",
   "id": "176e12f4-01d4-4839-9748-a93d93a565cb",
   "metadata": {},
   "source": [
    "# Final Report "
   ]
  },
  {
   "cell_type": "markdown",
   "id": "d0204ab3-79b0-49d7-a5fa-00d577be0c17",
   "metadata": {},
   "source": [
    "#### Group Members: Ivan, Ruohan, Hiroshi, Samin"
   ]
  },
  {
   "cell_type": "markdown",
   "id": "71fd2625-1848-4ffd-9eac-29a65c516f52",
   "metadata": {},
   "source": [
    "# (1) Introduction\n",
    "We will be using this dataset:\n",
    "\n",
    "https://www.kaggle.com/datasets/tawfikelmetwally/employee-dataset \n",
    "\n",
    "This is a sample dataset that includes data for employees in a company, notably their qualifications, time of joining, location, salary tiers, age, gender, if they have been without assigned work, experience, and a target column of whether they have left.\n",
    "\n",
    "The data is anonymized, it is real data that has been provided by someone with access to a company's HR data, however all the staff and the company is unknown for privacy reasons.\n",
    "\n",
    "There is missing context for some of the columns, notably salary tiers, where it is not known what each tier means, although there is speculation from users of the dataset that a higher tier means more pay, it is not confirmed whether it is true or false."
   ]
  },
  {
   "cell_type": "markdown",
   "id": "6fd754a2-48a4-4340-97bc-5e86f8adb4b2",
   "metadata": {},
   "source": [
    "### **Detailed Variable Descriptions**\n",
    "\n",
    "| **Variable Name**           | **Description**                                                          | **Type**         | **Example Values**        |\n",
    "|-----------------------------|---------------------------------------------------------------------------|-----------------|---------------------------|\n",
    "| `Education`                 | Educational qualifications (degree, field of study, etc.)                | Categorical     | \"Bachelors\"        |\n",
    "| `Joining Year`              | Year the employee joined the company                                     | Numerical       | 2015, 2018                |\n",
    "| `City`                      | Location where the employee works                                        | Categorical     | \"New Delhi\", \"Pune\"     |\n",
    "| `Payment Tier`              | Employee’s salary tier (categorization of income levels)                 | Ordinal         | 1, 2, 3                   |\n",
    "| `Age`                       | Age of the employee                                                      | Numerical       | 25, 34, 42                |\n",
    "| `Gender`                    | Employee’s gender identity                                               | Categorical     | \"Male\", \"Female\", \"Other\" |\n",
    "| `Ever Benched`              | Whether the employee was temporarily without assigned work               | Binary          | \"Yes\", \"No\"               |\n",
    "| `Experience in Current Domain` | Number of years the employee has worked in their current field      | Numerical       | 2, 5, 10                  |\n",
    "| `Leave or Not` (Target)     | Indicates if the employee left the company (attrition)                   | Binary          | 0 (No), 1 (Yes)           |\n"
   ]
  },
  {
   "cell_type": "markdown",
   "id": "7c127550-a53f-4485-bac5-800fc1e99d6e",
   "metadata": {},
   "source": [
    "Data Distribution and Summary Statistics:\n",
    "- Education: The majority of employees have a Bachelor’s degree (3,601), followed by Master’s (873) and PhD (179) qualifications.\n",
    "- Joining Year: Employees joined between 2012 and 2018, with a median joining year of 2015.\n",
    "- City: The largest number of employees are from Bangalore (2,228), followed by Pune (1,268) and New Delhi (1,157).\n",
    "- Payment Tier: Payment tiers are distributed as 1 (243 employees), 2 (918 employees), and 3 (3,492 employees).\n",
    "- Age: The age range of employees is from 22 to 41 years, with a mean age of approximately 29.4 years.\n",
    "- Gender: The dataset includes 1,875 female and 2,778 male employees.\n",
    "- Ever Benched: Most employees have not been benched (4,175), while 478 have experienced benching.\n",
    "- Experience in Current Domain: The experience ranges from 0 to 7 years, with a mean of approximately 2.9 years.\n",
    "- Leave or Not: 1,600 employees have left the company, while 3,053 have remained."
   ]
  },
  {
   "cell_type": "markdown",
   "id": "64e0ddf9-97bb-4c00-a318-29c8319f7fff",
   "metadata": {},
   "source": [
    "# (2) Methods and Results"
   ]
  },
  {
   "cell_type": "markdown",
   "id": "594bd066-5855-4fc7-910d-855f87a13e01",
   "metadata": {},
   "source": [
    "## a) “Exploratory Data Analysis (EDA)”"
   ]
  },
  {
   "cell_type": "markdown",
   "id": "43ecf365-3361-41b3-8b65-1d99aa41bd34",
   "metadata": {},
   "source": [
    "## b) “Methods: Plan”"
   ]
  },
  {
   "cell_type": "markdown",
   "id": "ab44450d-a6b5-4709-9069-f21a7c5b9432",
   "metadata": {},
   "source": [
    "# (3) Discussion"
   ]
  },
  {
   "cell_type": "markdown",
   "id": "f7d227b5-bef7-4837-a048-58494e216bc9",
   "metadata": {},
   "source": [
    "# (4) References"
   ]
  },
  {
   "cell_type": "code",
   "execution_count": null,
   "id": "b499740b-fbd2-4ac6-b916-f019b2d04b43",
   "metadata": {},
   "outputs": [],
   "source": []
  }
 ],
 "metadata": {
  "kernelspec": {
   "display_name": "R",
   "language": "R",
   "name": "ir"
  },
  "language_info": {
   "codemirror_mode": "r",
   "file_extension": ".r",
   "mimetype": "text/x-r-source",
   "name": "R",
   "pygments_lexer": "r",
   "version": "4.3.3"
  }
 },
 "nbformat": 4,
 "nbformat_minor": 5
}
